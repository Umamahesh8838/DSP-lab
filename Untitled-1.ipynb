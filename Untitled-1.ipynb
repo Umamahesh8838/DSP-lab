{
 "cells": [
  {
   "cell_type": "code",
   "execution_count": 6,
   "metadata": {},
   "outputs": [
    {
     "name": "stdout",
     "output_type": "stream",
     "text": [
      "factorial of 5 is 120\n"
     ]
    }
   ],
   "source": [
    "def factorialP(n):\n",
    "    if n==0 or n==1 :\n",
    "        return 1\n",
    "    else:\n",
    "        result=1\n",
    "        for i in range(2,n+1):\n",
    "            result*=i\n",
    "        return result\n",
    "n=int(input(\"enter a number:\"))\n",
    "print(\"factorial of\",n,\"is\",factorialP(n))\n"
   ]
  },
  {
   "cell_type": "code",
   "execution_count": 9,
   "metadata": {},
   "outputs": [
    {
     "name": "stdout",
     "output_type": "stream",
     "text": [
      "the factorial of number 5 is 120\n"
     ]
    }
   ],
   "source": [
    "class factorialO:\n",
    "    def __init__(self,n):\n",
    "        self.n=n\n",
    "    def calculateFactorial(self):\n",
    "\n",
    "        if self.n < 0 :\n",
    "            return \"Input should be a non-negative integer.\"\n",
    "        elif self.n ==0 or self.n ==1:\n",
    "            return 1\n",
    "        else:\n",
    "            result=1\n",
    "            for i in range(2,n+1):\n",
    "                result=result*i\n",
    "            return result\n",
    "    def __str__(self):\n",
    "        return f\"the factorial of number {self.n} is {self.calculateFactorial()}\"\n",
    "    \n",
    "\n",
    "n=int(input(\"Enter a number:\"))\n",
    "fact=factorialO(n)\n",
    "print(fact)"
   ]
  },
  {
   "cell_type": "code",
   "execution_count": 8,
   "metadata": {},
   "outputs": [
    {
     "data": {
      "text/plain": [
       "10"
      ]
     },
     "execution_count": 8,
     "metadata": {},
     "output_type": "execute_result"
    }
   ],
   "source": []
  }
 ],
 "metadata": {
  "kernelspec": {
   "display_name": "Python 3",
   "language": "python",
   "name": "python3"
  },
  "language_info": {
   "codemirror_mode": {
    "name": "ipython",
    "version": 3
   },
   "file_extension": ".py",
   "mimetype": "text/x-python",
   "name": "python",
   "nbconvert_exporter": "python",
   "pygments_lexer": "ipython3",
   "version": "3.12.0"
  }
 },
 "nbformat": 4,
 "nbformat_minor": 2
}
